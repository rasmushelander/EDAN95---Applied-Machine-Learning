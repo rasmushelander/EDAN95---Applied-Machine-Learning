{
 "cells": [
  {
   "cell_type": "code",
   "execution_count": 17,
   "metadata": {},
   "outputs": [],
   "source": [
    "from sklearn import datasets, model_selection, neighbors, metrics, cluster \n",
    "import matplotlib.pyplot as plt \n",
    "from collections import Counter"
   ]
  },
  {
   "cell_type": "markdown",
   "metadata": {},
   "source": [
    "# Data import and split "
   ]
  },
  {
   "cell_type": "code",
   "execution_count": 18,
   "metadata": {},
   "outputs": [],
   "source": [
    "data = datasets.load_digits()"
   ]
  },
  {
   "cell_type": "code",
   "execution_count": 19,
   "metadata": {},
   "outputs": [
    {
     "data": {
      "text/plain": [
       "dict_keys(['data', 'target', 'target_names', 'images', 'DESCR'])"
      ]
     },
     "execution_count": 19,
     "metadata": {},
     "output_type": "execute_result"
    }
   ],
   "source": [
    "data.keys()"
   ]
  },
  {
   "cell_type": "code",
   "execution_count": 20,
   "metadata": {},
   "outputs": [
    {
     "data": {
      "text/plain": [
       "<matplotlib.image.AxesImage at 0x7fc69d8466d0>"
      ]
     },
     "execution_count": 20,
     "metadata": {},
     "output_type": "execute_result"
    },
    {
     "data": {
      "image/png": "[encoded data removed]",
      "text/plain": [
       "<Figure size 432x288 with 1 Axes>"
      ]
     },
     "metadata": {
      "needs_background": "light"
     },
     "output_type": "display_data"
    }
   ],
   "source": [
    "test = data.data[0].reshape(8,8)\n",
    "plt.imshow(test, cmap = 'gray')"
   ]
  },
  {
   "cell_type": "code",
   "execution_count": 21,
   "metadata": {},
   "outputs": [
    {
     "data": {
      "text/plain": [
       "(1257, 64)"
      ]
     },
     "execution_count": 21,
     "metadata": {},
     "output_type": "execute_result"
    }
   ],
   "source": [
    "X = data.data\n",
    "y = data.target\n",
    "X_train, X_test, y_train, y_test = model_selection.train_test_split(X, y, test_size = 0.3)\n",
    "X_train.shape"
   ]
  },
  {
   "cell_type": "markdown",
   "metadata": {},
   "source": [
    "# k-NN classifier"
   ]
  },
  {
   "cell_type": "code",
   "execution_count": 22,
   "metadata": {},
   "outputs": [
    {
     "name": "stdout",
     "output_type": "stream",
     "text": [
      "              precision    recall  f1-score   support\n",
      "\n",
      "           0       1.00      1.00      1.00        47\n",
      "           1       0.98      1.00      0.99        54\n",
      "           2       1.00      1.00      1.00        59\n",
      "           3       1.00      0.95      0.97        56\n",
      "           4       1.00      1.00      1.00        62\n",
      "           5       0.98      1.00      0.99        55\n",
      "           6       1.00      1.00      1.00        47\n",
      "           7       0.96      1.00      0.98        52\n",
      "           8       0.96      0.98      0.97        55\n",
      "           9       1.00      0.96      0.98        53\n",
      "\n",
      "    accuracy                           0.99       540\n",
      "   macro avg       0.99      0.99      0.99       540\n",
      "weighted avg       0.99      0.99      0.99       540\n",
      "\n",
      "[[47  0  0  0  0  0  0  0  0  0]\n",
      " [ 0 54  0  0  0  0  0  0  0  0]\n",
      " [ 0  0 59  0  0  0  0  0  0  0]\n",
      " [ 0  0  0 53  0  1  0  2  0  0]\n",
      " [ 0  0  0  0 62  0  0  0  0  0]\n",
      " [ 0  0  0  0  0 55  0  0  0  0]\n",
      " [ 0  0  0  0  0  0 47  0  0  0]\n",
      " [ 0  0  0  0  0  0  0 52  0  0]\n",
      " [ 0  1  0  0  0  0  0  0 54  0]\n",
      " [ 0  0  0  0  0  0  0  0  2 51]]\n"
     ]
    }
   ],
   "source": [
    "clf = neighbors.KNeighborsClassifier(algorithm = 'brute', n_neighbors = 5).fit(X_train, y_train)\n",
    "y_pred = clf.predict(X_test)\n",
    "dists, n_neighbors = clf.kneighbors(X_test)\n",
    "print(metrics.classification_report(y_test, y_pred))\n",
    "cm = metrics.confusion_matrix(y_test, y_pred)\n",
    "print(cm)"
   ]
  },
  {
   "cell_type": "code",
   "execution_count": 23,
   "metadata": {},
   "outputs": [
    {
     "data": {
      "image/png": "[encoded data removed]",
      "text/plain": [
       "<Figure size 1152x288 with 4 Axes>"
      ]
     },
     "metadata": {
      "needs_background": "light"
     },
     "output_type": "display_data"
    },
    {
     "data": {
      "image/png": "[encoded data removed]",
      "text/plain": [
       "<Figure size 1152x288 with 4 Axes>"
      ]
     },
     "metadata": {
      "needs_background": "light"
     },
     "output_type": "display_data"
    },
    {
     "data": {
      "image/png": "[encoded data removed]",
      "text/plain": [
       "<Figure size 1152x288 with 4 Axes>"
      ]
     },
     "metadata": {
      "needs_background": "light"
     },
     "output_type": "display_data"
    }
   ],
   "source": [
    "for i in range(1,4): \n",
    "    _, nearest = clf.kneighbors(X_test[i].reshape(1,-1))\n",
    "    plt.figure(figsize = (16, 4))\n",
    "    plt.subplot(1, 4, 1)\n",
    "    plt.imshow(X_test[i].reshape(8,8), cmap = 'gray')\n",
    "    plt.title('Image')\n",
    "    plt.axis('off')\n",
    "    for j in range(1,4):\n",
    "        plt.subplot(1,4, j + 1)\n",
    "        plt.imshow(X_train[nearest[0, j]].reshape(8,8), cmap = 'gray')\n",
    "        plt.title('neighbor nr {}'.format(j+1))\n",
    "        plt.axis('off')\n",
    "    plt.show()\n",
    "    "
   ]
  },
  {
   "cell_type": "markdown",
   "metadata": {},
   "source": [
    "# k Means"
   ]
  },
  {
   "cell_type": "code",
   "execution_count": 24,
   "metadata": {},
   "outputs": [
    {
     "data": {
      "image/png": "[encoded data removed]",
      "text/plain": [
       "<Figure size 1440x720 with 10 Axes>"
      ]
     },
     "metadata": {
      "needs_background": "light"
     },
     "output_type": "display_data"
    }
   ],
   "source": [
    "kmeans = cluster.KMeans(n_clusters = 10).fit(X_train)\n",
    "centers = kmeans.cluster_centers_\n",
    "plt.figure(figsize = (20, 10))\n",
    "for i, center in enumerate(centers):\n",
    "    plt.subplot(1, 10, i+1)\n",
    "    plt.imshow(center.reshape(8,8), cmap = 'gray')\n",
    "    plt.axis('off')\n",
    "plt.show()"
   ]
  },
  {
   "cell_type": "code",
   "execution_count": 25,
   "metadata": {},
   "outputs": [
    {
     "name": "stdout",
     "output_type": "stream",
     "text": [
      "              precision    recall  f1-score   support\n",
      "\n",
      "           0       0.00      0.00      0.00        47\n",
      "           1       0.65      0.28      0.39        54\n",
      "           2       0.02      0.02      0.02        59\n",
      "           3       0.03      0.04      0.03        56\n",
      "           4       0.98      0.94      0.96        62\n",
      "           5       0.00      0.00      0.00        55\n",
      "           6       0.00      0.00      0.00        47\n",
      "           7       0.00      0.00      0.00        52\n",
      "           8       0.02      0.02      0.02        55\n",
      "           9       0.05      0.04      0.04        53\n",
      "\n",
      "    accuracy                           0.15       540\n",
      "   macro avg       0.17      0.13      0.15       540\n",
      "weighted avg       0.19      0.15      0.16       540\n",
      "\n",
      "[[ 0  0  0  0  0  0  0 47  0  0]\n",
      " [ 0 15  0  0  0 33  6  0  0  0]\n",
      " [ 0  1  1  0  0  3 50  0  4  0]\n",
      " [ 0  0  5  2  0  2  1  0 45  1]\n",
      " [ 0  0  3  0 58  1  0  0  0  0]\n",
      " [ 0  0  0 19  1  0  0  0  0 35]\n",
      " [46  0  0  0  0  0  0  1  0  0]\n",
      " [ 0  1 50  0  0  1  0  0  0  0]\n",
      " [ 0  0  1 15  0 37  0  0  1  1]\n",
      " [ 0  6  2 42  0  1  0  0  0  2]]\n"
     ]
    }
   ],
   "source": [
    "y_pred = kmeans.predict(X_test)\n",
    "print(metrics.classification_report(y_test, y_pred))\n",
    "cm = metrics.confusion_matrix(y_test, y_pred)\n",
    "print(cm)"
   ]
  },
  {
   "cell_type": "code",
   "execution_count": 26,
   "metadata": {},
   "outputs": [
    {
     "name": "stdout",
     "output_type": "stream",
     "text": [
      "0.765269283285789\n",
      "0.7509713859927412\n",
      "0.7493151062330898\n"
     ]
    }
   ],
   "source": [
    "print(metrics.completeness_score(y_test, y_pred)) \n",
    "print(metrics.homogeneity_score(y_test, y_pred))\n",
    "print(metrics.adjusted_mutual_info_score(y_test, y_pred))"
   ]
  },
  {
   "cell_type": "code",
   "execution_count": 27,
   "metadata": {},
   "outputs": [
    {
     "name": "stdout",
     "output_type": "stream",
     "text": [
      "0.7402495295996144\n",
      "0.7323814213346636\n",
      "0.7324587739857353\n"
     ]
    }
   ],
   "source": [
    "y_pred_new = kmeans.predict(X_train)\n",
    "print(metrics.completeness_score(y_train, y_pred_new)) \n",
    "print(metrics.homogeneity_score(y_train, y_pred_new))\n",
    "print(metrics.adjusted_mutual_info_score(y_train, y_pred_new))"
   ]
  },
  {
   "cell_type": "markdown",
   "metadata": {},
   "source": [
    "## Get 'correct' class labels from training set "
   ]
  },
  {
   "cell_type": "code",
   "execution_count": 28,
   "metadata": {},
   "outputs": [],
   "source": [
    "cluster_label_dict = {i: [] for i in range(0,10)}\n",
    "for i, image in enumerate(X_train): \n",
    "    pred = kmeans.predict(image.reshape(1,-1))[0]\n",
    "    cluster_label_dict[pred]  += [y_train[i]]\n",
    "for cluster in cluster_label_dict: \n",
    "    cluster_label_dict[cluster] = Counter(cluster_label_dict[cluster]).most_common(1)[0]\n",
    "y_pred = [cluster_label_dict[pred][0] for pred in y_pred]"
   ]
  },
  {
   "cell_type": "code",
   "execution_count": 29,
   "metadata": {},
   "outputs": [
    {
     "name": "stdout",
     "output_type": "stream",
     "text": [
      "              precision    recall  f1-score   support\n",
      "\n",
      "           0       0.98      1.00      0.99        47\n",
      "           1       0.48      0.89      0.62        54\n",
      "           2       0.88      0.85      0.86        59\n",
      "           3       0.90      0.80      0.85        56\n",
      "           4       0.98      0.94      0.96        62\n",
      "           5       0.90      0.64      0.74        55\n",
      "           6       1.00      0.98      0.99        47\n",
      "           7       0.81      0.96      0.88        52\n",
      "           8       0.00      0.00      0.00        55\n",
      "           9       0.54      0.79      0.64        53\n",
      "\n",
      "    accuracy                           0.78       540\n",
      "   macro avg       0.75      0.78      0.75       540\n",
      "weighted avg       0.74      0.78      0.75       540\n",
      "\n",
      "[[47  0  0  0  0  0  0  0  0  0]\n",
      " [ 0 48  6  0  0  0  0  0  0  0]\n",
      " [ 0  4 50  4  0  0  0  1  0  0]\n",
      " [ 0  2  1 45  0  1  0  5  0  2]\n",
      " [ 0  1  0  0 58  0  0  3  0  0]\n",
      " [ 0  0  0  0  1 35  0  0  0 19]\n",
      " [ 1  0  0  0  0  0 46  0  0  0]\n",
      " [ 0  2  0  0  0  0  0 50  0  0]\n",
      " [ 0 37  0  1  0  1  0  1  0 15]\n",
      " [ 0  7  0  0  0  2  0  2  0 42]]\n"
     ]
    },
    {
     "name": "stderr",
     "output_type": "stream",
     "text": [
      "/Users/rasmushelander/opt/anaconda3/lib/python3.7/site-packages/sklearn/metrics/_classification.py:1272: UndefinedMetricWarning: Precision and F-score are ill-defined and being set to 0.0 in labels with no predicted samples. Use `zero_division` parameter to control this behavior.\n",
      "  _warn_prf(average, modifier, msg_start, len(result))\n"
     ]
    }
   ],
   "source": [
    "print(metrics.classification_report(y_test, y_pred))\n",
    "cm = metrics.confusion_matrix(y_test, y_pred)\n",
    "print(cm)"
   ]
  },
  {
   "cell_type": "code",
   "execution_count": null,
   "metadata": {},
   "outputs": [],
   "source": []
  },
  {
   "cell_type": "code",
   "execution_count": 14,
   "metadata": {},
   "outputs": [
    {
     "data": {
      "text/plain": [
       "dict_values([6, 5, 3, 2, 1, 7, 4, 1, 0, 9])"
      ]
     },
     "execution_count": 14,
     "metadata": {},
     "output_type": "execute_result"
    }
   ],
   "source": [
    "cluster_label_dict.values()"
   ]
  },
  {
   "cell_type": "code",
   "execution_count": null,
   "metadata": {},
   "outputs": [],
   "source": []
  },
  {
   "cell_type": "code",
   "execution_count": null,
   "metadata": {},
   "outputs": [],
   "source": []
  },
  {
   "cell_type": "code",
   "execution_count": null,
   "metadata": {},
   "outputs": [],
   "source": []
  }
 ],
 "metadata": {
  "kernelspec": {
   "display_name": "Python 3",
   "language": "python",
   "name": "python3"
  },
  "language_info": {
   "codemirror_mode": {
    "name": "ipython",
    "version": 3
   },
   "file_extension": ".py",
   "mimetype": "text/x-python",
   "name": "python",
   "nbconvert_exporter": "python",
   "pygments_lexer": "ipython3",
   "version": "3.7.4"
  }
 },
 "nbformat": 4,
 "nbformat_minor": 4
}
